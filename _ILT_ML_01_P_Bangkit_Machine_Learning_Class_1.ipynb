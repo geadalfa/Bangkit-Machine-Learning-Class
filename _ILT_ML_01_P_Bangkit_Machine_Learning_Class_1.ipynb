{
  "nbformat": 4,
  "nbformat_minor": 0,
  "metadata": {
    "colab": {
      "name": "-ILT-ML-01-P- Bangkit Machine Learning Class #1.ipynb",
      "provenance": [],
      "collapsed_sections": [],
      "include_colab_link": true
    },
    "kernelspec": {
      "name": "python3",
      "display_name": "Python 3"
    }
  },
  "cells": [
    {
      "cell_type": "markdown",
      "metadata": {
        "id": "view-in-github",
        "colab_type": "text"
      },
      "source": [
        "<a href=\"https://colab.research.google.com/github/geadalfa/Bangkit-Machine-Learning-Class/blob/main/_ILT_ML_01_P_Bangkit_Machine_Learning_Class_1.ipynb\" target=\"_parent\"><img src=\"https://colab.research.google.com/assets/colab-badge.svg\" alt=\"Open In Colab\"/></a>"
      ]
    },
    {
      "cell_type": "markdown",
      "metadata": {
        "id": "d9Sj0udhO0GF"
      },
      "source": [
        "Geadalfa Giyanda\r\n",
        "\r\n",
        "#===================**WELCOME TO PYTHON PROGRAMMING**===================\r\n",
        "#‎‎‎‎‎‎‎‎‎‎ㅤㅤㅤㅤㅤㅤㅤㅤ**AND INTERACTION WITH THE OPERATING SYSTEM**\r\n",
        "\r\n",
        "---\r\n",
        "\r\n",
        "\r\n"
      ]
    },
    {
      "cell_type": "markdown",
      "metadata": {
        "id": "ZU7yToUpPx-_"
      },
      "source": [
        "CLASS CODE        : *ILT-ML-01-P*\r\n",
        "\r\n",
        "INSTRUCTORS CODE  : *ML-0202*\r\n",
        "\r\n",
        "DATE              : *Thursday, 18-February-2021*\r\n",
        "\r\n",
        "TIME              : *13.00 - 15.00*\r\n",
        "\r\n",
        "PROGRAM           : *BANGKIT COHORT 2021 ILT SESSION*\r\n",
        "\r\n",
        "---\r\n",
        "\r\n"
      ]
    },
    {
      "cell_type": "markdown",
      "metadata": {
        "id": "IXRAOFT_TKmo"
      },
      "source": [
        "# *SESSION 1 : Programming with Python (Crash Course on Python)*"
      ]
    },
    {
      "cell_type": "markdown",
      "metadata": {
        "id": "kCigC395hzwB"
      },
      "source": [
        "### <font color=”50EBEC”> --> Basic Python Syntax </font>"
      ]
    },
    {
      "cell_type": "code",
      "metadata": {
        "colab": {
          "base_uri": "https://localhost:8080/"
        },
        "cellView": "code",
        "id": "ATXjWpun_Thy",
        "outputId": "9461264b-591a-4cda-ddd1-4fceb8353803"
      },
      "source": [
        "#print is a built in function that has a syntax like this\n",
        "#basicly, print used for to give an output of what inside the print statements.\n",
        "print(\"THIS IS MY FIRST PROGRAM :\")\n",
        "print()\n",
        "print(\"Hello, Bangkit!\")\n",
        "\n",
        "#This is a comment\n",
        "#It won't be interpreted / executed / run"
      ],
      "execution_count": 1,
      "outputs": [
        {
          "output_type": "stream",
          "text": [
            "THIS IS MY FIRST PROGRAM :\n",
            "\n",
            "Hello, Bangkit!\n"
          ],
          "name": "stdout"
        }
      ]
    },
    {
      "cell_type": "code",
      "metadata": {
        "colab": {
          "base_uri": "https://localhost:8080/"
        },
        "id": "dT3-PD04RUX1",
        "outputId": "8c5dc62b-db37-4b15-e24c-2dd02b3618ba"
      },
      "source": [
        "a = 1               #data type(integer), 'a' is a variable.\r\n",
        "b = 0.0             #data type(float), easily have an identically denoted by \".\" (dot) symbol.\r\n",
        "c = \"bangkit\"       #data type(string), can also type 'bangkit' with single quotation.\r\n",
        "d = False           #data type(boolean), only have \"True / False\" note 'T' and 'F' is capital.\r\n",
        "e = 1 + 2j          #data type(complex), have syntax: n1(real part) + n2j(imaginary part). Always have 'j' letter.\r\n",
        "\r\n",
        "print(\"ASSIGN VAlUE TO VARIABLES\")\r\n",
        "print(a,'|',b,'|',c,'|',d,'|',e)\r\n",
        "print()\r\n",
        "print(type(a), type(b), type(c), type(d), type(e))\r\n",
        "\r\n",
        "#integer --> Real number WITHOUT a fraction. Ex: ..,-3,-2,-1,0,1,2,3,..\r\n",
        "#float/decimal --> Real numbers WITH a fraction. Ex: ..,-2.6, -1.1, 0.0, 1.4,..\r\n",
        "#real part --> 1,2,3,4,5,.....\r\n",
        "#imaginary part --> 1j,2j,3j,4j,5j,.....\r\n",
        "#complex data type can also: 1 - 2j, 1 / 2j, 1 * 2j, and 1 ** 2j. EXCEPT FOR RELATIONAL OPERATORS(<, >, <=, >=, !=, ==)."
      ],
      "execution_count": 2,
      "outputs": [
        {
          "output_type": "stream",
          "text": [
            "ASSIGN VAlUE TO VARIABLES\n",
            "1 | 0.0 | bangkit | False | (1+2j)\n",
            "\n",
            "<class 'int'> <class 'float'> <class 'str'> <class 'bool'> <class 'complex'>\n"
          ],
          "name": "stdout"
        }
      ]
    },
    {
      "cell_type": "code",
      "metadata": {
        "colab": {
          "base_uri": "https://localhost:8080/"
        },
        "id": "ccNGwOhwkLYf",
        "outputId": "22c9eb92-40c7-40d8-d7aa-de39efb0522c"
      },
      "source": [
        "length = 10\r\n",
        "width = 2\r\n",
        "area = length * width\r\n",
        "\r\n",
        "print(area)\r\n",
        "print(type(width), \"This data type belongs to variable width\")\r\n",
        "print(type(area), \"This data type belongs to variable area\")\r\n",
        "print(\"This data type belongs to variable changed area\", type(str(area))) #any variable with in the paranthesis will be convert to string."
      ],
      "execution_count": 3,
      "outputs": [
        {
          "output_type": "stream",
          "text": [
            "20\n",
            "<class 'int'> This data type belongs to variable width\n",
            "<class 'int'> This data type belongs to variable area\n",
            "This data type belongs to variable changed area <class 'str'>\n"
          ],
          "name": "stdout"
        }
      ]
    },
    {
      "cell_type": "code",
      "metadata": {
        "colab": {
          "base_uri": "https://localhost:8080/"
        },
        "id": "6ORuy9pZp5uy",
        "outputId": "4e455728-d56c-40c1-fc8b-e5698d3e9054"
      },
      "source": [
        "#print(1 + \"hello\")\r\n",
        "#Got error, because integer cannot be add with string.\r\n",
        "\r\n",
        "# Solution\r\n",
        "print(str(1) + \"hello\")"
      ],
      "execution_count": 4,
      "outputs": [
        {
          "output_type": "stream",
          "text": [
            "1hello\n"
          ],
          "name": "stdout"
        }
      ]
    },
    {
      "cell_type": "code",
      "metadata": {
        "colab": {
          "base_uri": "https://localhost:8080/"
        },
        "id": "mF-exQF7sHJa",
        "outputId": "82faeab9-5dc7-4a8d-bde9-249eafdcaf66"
      },
      "source": [
        "print(\"Hello\" + \"Bangkit\") #note there is no space between them.\r\n",
        "print(2020.0 + 1)\r\n",
        "\r\n",
        "#String only can add by string\r\n",
        "#Integers only can add by Integers and Float / Floating Point / Decimal"
      ],
      "execution_count": 5,
      "outputs": [
        {
          "output_type": "stream",
          "text": [
            "HelloBangkit\n",
            "2021.0\n"
          ],
          "name": "stdout"
        }
      ]
    },
    {
      "cell_type": "code",
      "metadata": {
        "colab": {
          "base_uri": "https://localhost:8080/"
        },
        "id": "tunYSQKhEFpm",
        "outputId": "3099a639-8bb5-4e68-9be7-83a70df9e4b2"
      },
      "source": [
        "number = input(\"Insert Number  :\") #default data type has a string.\r\n",
        "name = str(input(\"Your Name      :\")) #got an error cause already change to integer data type\r\n",
        "\r\n",
        "print(type(number))\r\n",
        "print(type(name))\r\n",
        "print()\r\n",
        "\r\n",
        "\r\n",
        "# The true one,\r\n",
        "# number = int(input(\"Insert Number  :\"))\r\n",
        "# name = str(input(\"Your Name     :\"))"
      ],
      "execution_count": 6,
      "outputs": [
        {
          "output_type": "stream",
          "text": [
            "Insert Number  :8\n",
            "Your Name      :geadalfa\n",
            "<class 'str'>\n",
            "<class 'str'>\n",
            "\n"
          ],
          "name": "stdout"
        }
      ]
    },
    {
      "cell_type": "code",
      "metadata": {
        "colab": {
          "base_uri": "https://localhost:8080/"
        },
        "id": "pOVsgXkItQc-",
        "outputId": "1d5201f1-7ed6-4fbf-b0b3-50a83a713b5f"
      },
      "source": [
        "#what is function?\r\n",
        "#function is like a tools that will help you to make your work easier.\r\n",
        "#print(), is a built-in function that already provided in Python.\r\n",
        "#str(),int(),float() is also another built-in function. so that you can convert the data type to the spesific one.\r\n",
        "\r\n",
        "#Very Simple function\r\n",
        "def event():\r\n",
        "    print('BANGKIT 2021')   #it has 4 spaces, called an Indentation. \r\n",
        "                            #Indentation is for pointing out the block of program\r\n",
        "\r\n",
        "event() #call the function to return the exact value what is inside on the function.\r\n",
        "        #the \"event()\" is outside of the function.\r\n",
        "        #we know it on the outside because of the indentation.\r\n",
        "\r\n",
        "\r\n",
        "# 2nd example\r\n",
        "def event(Class):           #has a 1 positional argument, where the argument can replace by any value when the function is being called.\r\n",
        "    print('BANGKIT 2021')\r\n",
        "\r\n",
        "event(123456)               #whats the different between it? the different is on the positional argument that given by user.\r\n",
        "event(\"ILT SESSION\")"
      ],
      "execution_count": 7,
      "outputs": [
        {
          "output_type": "stream",
          "text": [
            "BANGKIT 2021\n",
            "BANGKIT 2021\n",
            "BANGKIT 2021\n"
          ],
          "name": "stdout"
        }
      ]
    },
    {
      "cell_type": "code",
      "metadata": {
        "colab": {
          "base_uri": "https://localhost:8080/"
        },
        "id": "4km9symP6zeV",
        "outputId": "e4cde8a9-cf4e-4c59-fc43-1b9a983418f8"
      },
      "source": [
        "def event(Class, Bangkit):           #has a 2 positional argument.\r\n",
        "    print('BANGKIT 2021')\r\n",
        "\r\n",
        "#event(123456)\r\n",
        "\r\n",
        "\r\n",
        "#SOLUTION :\r\n",
        "event(123456, \"ILT SESSION\")        "
      ],
      "execution_count": 11,
      "outputs": [
        {
          "output_type": "stream",
          "text": [
            "BANGKIT 2021\n"
          ],
          "name": "stdout"
        }
      ]
    },
    {
      "cell_type": "code",
      "metadata": {
        "colab": {
          "base_uri": "https://localhost:8080/"
        },
        "id": "FMqPyd9etQfW",
        "outputId": "2987c57e-f090-44ba-d3e8-b77966393f21"
      },
      "source": [
        "#greeting function\r\n",
        "\r\n",
        "def biodata(id, name, Class):          \r\n",
        "    print(\"My Student ID : \" + id)\r\n",
        "    print(\"My Name       : \" + name)\r\n",
        "    print(\"My Class      : \" + Class)\r\n",
        "\r\n",
        "biodata('52417498', 'Geadalfa Giyanda', 'ML-05')"
      ],
      "execution_count": 12,
      "outputs": [
        {
          "output_type": "stream",
          "text": [
            "My Student ID : 52417498\n",
            "My Name       : Geadalfa Giyanda\n",
            "My Class      : ML-05\n"
          ],
          "name": "stdout"
        }
      ]
    },
    {
      "cell_type": "code",
      "metadata": {
        "colab": {
          "base_uri": "https://localhost:8080/"
        },
        "id": "p-DS55YX2fxl",
        "outputId": "318e5062-1949-401b-e0af-c951f759289f"
      },
      "source": [
        "#Example of using return value\r\n",
        "\r\n",
        "def attempt(first, second):\r\n",
        "    return first, second\r\n",
        "attempt(1, 2)           #return value will return anything that mentioned there, \r\n",
        "                        #in that case it will return the value that stored on 'first' and 'second'.\r\n",
        "\r\n",
        "                        #the value which mean 1 and 2 will be stored to \"first\" & \"second\"\r\n",
        "\r\n",
        "\r\n",
        "# print(type(coba(1,2)))\r\n",
        "# datatype : tuple.\r\n",
        "# what is tuple? we will figure it out later."
      ],
      "execution_count": 13,
      "outputs": [
        {
          "output_type": "execute_result",
          "data": {
            "text/plain": [
              "(1, 2)"
            ]
          },
          "metadata": {
            "tags": []
          },
          "execution_count": 13
        }
      ]
    },
    {
      "cell_type": "markdown",
      "metadata": {
        "id": "md8QVKbMRj0S"
      },
      "source": [
        "### <font color=”50EBEC”> --> Condition and Loops </font>"
      ]
    },
    {
      "cell_type": "code",
      "metadata": {
        "colab": {
          "base_uri": "https://localhost:8080/",
          "height": 35
        },
        "id": "bHTCLTL3EFxj",
        "outputId": "2512be1e-588f-49ae-8efa-b801878a57bb"
      },
      "source": [
        "def check(number):\r\n",
        "    if number > 0:\r\n",
        "        return \"Positive\"\r\n",
        "    elif number == 0:           #elif stands for else if\r\n",
        "        return \"Zero\"\r\n",
        "    elif number < 0:\r\n",
        "        return \"Negative\"\r\n",
        "    else:\r\n",
        "        return \"INPUT ERROR\"\r\n",
        "\r\n",
        "check(2021)"
      ],
      "execution_count": 14,
      "outputs": [
        {
          "output_type": "execute_result",
          "data": {
            "application/vnd.google.colaboratory.intrinsic+json": {
              "type": "string"
            },
            "text/plain": [
              "'Positive'"
            ]
          },
          "metadata": {
            "tags": []
          },
          "execution_count": 14
        }
      ]
    },
    {
      "cell_type": "code",
      "metadata": {
        "colab": {
          "base_uri": "https://localhost:8080/"
        },
        "id": "--ulvomnHm7R",
        "outputId": "e9e370e0-2469-40d7-b432-719a1ba53ee2"
      },
      "source": [
        "#while loop is a type of looping that ONLY accept when the condition is true and always iterate over and over again until get the FALSE condition.\r\n",
        "#while loop widely used if you don't know how much you want to iterate.\r\n",
        "\r\n",
        "def whileloop(anything):\r\n",
        "    while anything > 0:                             #if anything has a value more than 0 / the condition is true\r\n",
        "        anything = anything - 1                     #then CONTINUE to the while loop program\r\n",
        "        print(\"The value = \" + str(anything))\r\n",
        "\r\n",
        "whileloop(10)                                       #always looping if the condition still true.\r\n",
        "\r\n",
        "\r\n",
        "#INFINITE LOOP, CAREFUL!\r\n",
        "# def whileloop(anything):\r\n",
        "#     while anything > 0:                             \r\n",
        "#         anything = anything + 1                     \r\n",
        "#         print(\"The value = \" + str(anything))\r\n",
        "\r\n",
        "# whileloop(10)                                      "
      ],
      "execution_count": 15,
      "outputs": [
        {
          "output_type": "stream",
          "text": [
            "The value = 9\n",
            "The value = 8\n",
            "The value = 7\n",
            "The value = 6\n",
            "The value = 5\n",
            "The value = 4\n",
            "The value = 3\n",
            "The value = 2\n",
            "The value = 1\n",
            "The value = 0\n"
          ],
          "name": "stdout"
        }
      ]
    },
    {
      "cell_type": "code",
      "metadata": {
        "colab": {
          "base_uri": "https://localhost:8080/"
        },
        "id": "9r3IeZyfh2fh",
        "outputId": "24f286eb-4d47-4fac-e79d-71d2128b7b25"
      },
      "source": [
        "#unlike the while loop,\r\n",
        "\r\n",
        "#for loop is a type of looping that use a spesific condition to do a looping.\r\n",
        "#for loop widely used for you that already know how much you want to iterate.\r\n",
        "\r\n",
        "for x in range(4):                  #formula --> range(stop).\r\n",
        "    print(x)                        #range will stop on number 4 but DON'T included 4, means that 4 - 1 / (n-1).\r\n",
        "                                    #that is the syntax or rules that already exist in python like that."
      ],
      "execution_count": 16,
      "outputs": [
        {
          "output_type": "stream",
          "text": [
            "0\n",
            "1\n",
            "2\n",
            "3\n"
          ],
          "name": "stdout"
        }
      ]
    },
    {
      "cell_type": "code",
      "metadata": {
        "colab": {
          "base_uri": "https://localhost:8080/"
        },
        "id": "nkT45k6eRABL",
        "outputId": "197b30dc-b7a6-497a-838e-38612449db08"
      },
      "source": [
        "for hello in range(3, -1, -1):           #formula --> range(start, stop, step)\r\n",
        "    print(hello)                         #each iteration will minus by 1\r\n",
        "\r\n",
        "                                         #start is WHEN the iteration will start from\r\n",
        "                                         #stop is WHEN the iteration will stop at\r\n",
        "                                         #step is same like move for each every iteration."
      ],
      "execution_count": 17,
      "outputs": [
        {
          "output_type": "stream",
          "text": [
            "3\n",
            "2\n",
            "1\n",
            "0\n"
          ],
          "name": "stdout"
        }
      ]
    },
    {
      "cell_type": "code",
      "metadata": {
        "colab": {
          "base_uri": "https://localhost:8080/"
        },
        "id": "LWq4HI2oRlbK",
        "outputId": "72d54e11-21d6-4a75-b701-e23508a4f011"
      },
      "source": [
        "for z in range(4):              #break statement use to out from the current iteration / looping\r\n",
        "    print(\"Z = \" + str(z))\r\n",
        "    if z == 2:\r\n",
        "        break                   #the last iteration for '3' doesn't executed because break statement."
      ],
      "execution_count": 18,
      "outputs": [
        {
          "output_type": "stream",
          "text": [
            "Z = 0\n",
            "Z = 1\n",
            "Z = 2\n"
          ],
          "name": "stdout"
        }
      ]
    },
    {
      "cell_type": "code",
      "metadata": {
        "colab": {
          "base_uri": "https://localhost:8080/"
        },
        "id": "l0K6m9W7Syqq",
        "outputId": "10af7191-c890-43f3-cb57-d369b5210fe5"
      },
      "source": [
        "for a in range(3, 0, -1):\r\n",
        "    if a % 2 == 0:              #percentage symbols or also called MOD/MODULO operator.\r\n",
        "        continue                #is the result of the remain value from the division.\r\n",
        "    print(a)                    #continue statement is will continue to the next iteration and skip the current iteration\r\n",
        "                                #so, the print statements is skipped."
      ],
      "execution_count": 19,
      "outputs": [
        {
          "output_type": "stream",
          "text": [
            "3\n",
            "1\n"
          ],
          "name": "stdout"
        }
      ]
    },
    {
      "cell_type": "code",
      "metadata": {
        "colab": {
          "base_uri": "https://localhost:8080/"
        },
        "id": "IMvlOKl_evb-",
        "outputId": "1ed9bb07-4dc4-4634-885b-c6097683df38"
      },
      "source": [
        "for i in range(2, 5):              \r\n",
        "    for j in range(1, i):           #executed inside the loop first to fully completed then go to the next iteration at parent/outer loop.\r\n",
        "        print(i, j)\r\n",
        "\r\n",
        "#for j in range(1,2) --> 1\r\n",
        "#print(i,j) --> current i = 2, current j = 1\r\n",
        "#cause j only has one at this state so it will just iterate one time.\r\n",
        "\r\n",
        "#for j in range(1,3) --> 1, 2\r\n",
        "#print(i,j) --> current i = 3, current j = 1\r\n",
        "\r\n",
        "#repeated again on for j loop cause still have remains condition to loop.\r\n",
        "#print(i,j) --> current i = 3, current j = 2\r\n",
        "# .\r\n",
        "# .\r\n",
        "# .\r\n",
        "# .\r\n",
        "# and so on."
      ],
      "execution_count": 20,
      "outputs": [
        {
          "output_type": "stream",
          "text": [
            "2 1\n",
            "3 1\n",
            "3 2\n",
            "4 1\n",
            "4 2\n",
            "4 3\n"
          ],
          "name": "stdout"
        }
      ]
    },
    {
      "cell_type": "markdown",
      "metadata": {
        "id": "Rj-ujmk8ivU5"
      },
      "source": [
        "### <font color=”50EBEC”> --> List, Indexing, and Slicing </font>"
      ]
    },
    {
      "cell_type": "code",
      "metadata": {
        "colab": {
          "base_uri": "https://localhost:8080/"
        },
        "id": "OBIpDvq-QEyz",
        "outputId": "d4b28ad4-980b-4b01-c4d9-78fecd8af18a"
      },
      "source": [
        "program = \"Hello\\nBangkit\" # / 'bangkit'\r\n",
        "                           # escape character or \\n stands for new line or just same like an enter.\r\n",
        "\r\n",
        "#another way to declare strings\r\n",
        "year = \"\"\"\r\n",
        "2\r\n",
        "0\r\n",
        "2\r\n",
        "1\r\n",
        "\"\"\"\r\n",
        "                            #triple quotation mark is ONLY for multiple line.\r\n",
        "\r\n",
        "\r\n",
        "#program[0] = 'a'\r\n",
        "print(program)\r\n",
        "#print(program[5])\r\n",
        "print(year)\r\n",
        "\r\n",
        "#got an error because a strings are IMMUTABLE\r\n",
        "#which mean that they can't be MODIFIED.\r\n",
        "#or even also can't added and remove the value that already stored inside string."
      ],
      "execution_count": 21,
      "outputs": [
        {
          "output_type": "stream",
          "text": [
            "Hello\n",
            "Bangkit\n",
            "\n",
            "2\n",
            "0\n",
            "2\n",
            "1\n",
            "\n"
          ],
          "name": "stdout"
        }
      ]
    },
    {
      "cell_type": "code",
      "metadata": {
        "colab": {
          "base_uri": "https://localhost:8080/"
        },
        "id": "ORN37rc_cu4g",
        "outputId": "31095212-023f-41c6-9668-377eea654de4"
      },
      "source": [
        "def List():                                 #make a function to make a squared number\r\n",
        "    return [x**2 for x in range(1, 11)]     #so what happening here in this syntaxs\r\n",
        "                                            #is we are trying to make a List Comprehension, and that's the syntax of it.\r\n",
        "                                            #i will show you later on the presentation.\r\n",
        "\r\n",
        "square_number = List()  #list have an identic denoted by '[]' or square brackets symbols\r\n",
        "print(\"Square Number :\", square_number)    #list have an index start from zero."
      ],
      "execution_count": 22,
      "outputs": [
        {
          "output_type": "stream",
          "text": [
            "Square Number : [1, 4, 9, 16, 25, 36, 49, 64, 81, 100]\n"
          ],
          "name": "stdout"
        }
      ]
    },
    {
      "cell_type": "code",
      "metadata": {
        "colab": {
          "base_uri": "https://localhost:8080/"
        },
        "id": "Nu3Qnz2uH8p7",
        "outputId": "a03ee4d0-e546-495b-fc57-af35ce396171"
      },
      "source": [
        "print(square_number[1])  \r\n",
        "print(square_number[2])         #when slicing with index with positive number, it's start from 0 and select the first number of the list\r\n",
        "print(square_number[3])        \r\n",
        "                                \r\n",
        "print(square_number[-1])        # -1 / negative one is the opposite from the positive one.\r\n",
        "print(square_number[-2])        #when slicing with index with negative number, it's start from the last number of that list\r\n",
        "print(square_number[-3])"
      ],
      "execution_count": 23,
      "outputs": [
        {
          "output_type": "stream",
          "text": [
            "4\n",
            "9\n",
            "16\n",
            "100\n",
            "81\n",
            "64\n"
          ],
          "name": "stdout"
        }
      ]
    },
    {
      "cell_type": "code",
      "metadata": {
        "colab": {
          "base_uri": "https://localhost:8080/"
        },
        "id": "gu9KinCnLs5y",
        "outputId": "5bc1071a-f13e-4df3-e4ef-8118d99bb67c"
      },
      "source": [
        "print(\"Square Number :\", square_number)\r\n",
        "print(square_number[:3])                    #the left side is start, the right side is stop.\r\n",
        "print(square_number[3:])                    #when the left side is empty, it will starts from 0 --> [0:3]\r\n",
        "print(square_number[3:3])                   #and when the right side is empty, it will STOP until the last index of that list\r\n",
        "print()                                     #when the start and stop have the same number it will return empty list.\r\n",
        "print(square_number[3:4])"
      ],
      "execution_count": 24,
      "outputs": [
        {
          "output_type": "stream",
          "text": [
            "Square Number : [1, 4, 9, 16, 25, 36, 49, 64, 81, 100]\n",
            "[1, 4, 9]\n",
            "[16, 25, 36, 49, 64, 81, 100]\n",
            "[]\n",
            "\n",
            "[16]\n"
          ],
          "name": "stdout"
        }
      ]
    },
    {
      "cell_type": "code",
      "metadata": {
        "colab": {
          "base_uri": "https://localhost:8080/"
        },
        "id": "xXn_Wd_1PV0Y",
        "outputId": "637e728a-643d-4b49-d37e-188b0b0c121d"
      },
      "source": [
        "square_number[0] = \"0\"\r\n",
        "print(square_number)                        #unlike strings, LIST ARE MUTABLE. which mean the opposite from IMMUTABLE\r\n",
        "                                            #you can modified (add/remove) the value inside the list."
      ],
      "execution_count": 25,
      "outputs": [
        {
          "output_type": "stream",
          "text": [
            "['0', 4, 9, 16, 25, 36, 49, 64, 81, 100]\n"
          ],
          "name": "stdout"
        }
      ]
    },
    {
      "cell_type": "markdown",
      "metadata": {
        "id": "GPjo6pkbi4tf"
      },
      "source": [
        "### <font color=”50EBEC”> --> Tuples </font>"
      ]
    },
    {
      "cell_type": "code",
      "metadata": {
        "colab": {
          "base_uri": "https://localhost:8080/"
        },
        "id": "v7kwkUHCVS5U",
        "outputId": "45bbd0ef-aacd-465a-d45f-433f57eb7252"
      },
      "source": [
        "a = (1, 2, 3, 4, 5)             #unlike list, tuple have an identic denoted by '()' or paranthesis symbols.\r\n",
        "                                #and same like strings also, tuple are immutable / CAN'T MODIFIED.\r\n",
        "\r\n",
        "#a[0] = 0\r\n",
        "#got an error because a strings are immutable\r\n",
        "\r\n",
        "print(a)"
      ],
      "execution_count": 26,
      "outputs": [
        {
          "output_type": "stream",
          "text": [
            "(1, 2, 3, 4, 5)\n"
          ],
          "name": "stdout"
        }
      ]
    },
    {
      "cell_type": "code",
      "metadata": {
        "colab": {
          "base_uri": "https://localhost:8080/"
        },
        "id": "_y4Y8K9Ni5xA",
        "outputId": "c8cf92c3-6325-45ba-d220-856eeadd7b3a"
      },
      "source": [
        "def get_stat(numbers):\r\n",
        "    total = sum(numbers)\r\n",
        "    length = len(numbers)\r\n",
        "    mean = total /length\r\n",
        "    return length, total, mean\r\n",
        "\r\n",
        "stat = get_stat([1,3,5,7])\r\n",
        "print(stat)\r\n",
        "print(type(stat))\r\n",
        "\r\n",
        "print()\r\n",
        "for data in stat:\r\n",
        "    print(data)"
      ],
      "execution_count": 27,
      "outputs": [
        {
          "output_type": "stream",
          "text": [
            "(4, 16, 4.0)\n",
            "<class 'tuple'>\n",
            "\n",
            "4\n",
            "16\n",
            "4.0\n"
          ],
          "name": "stdout"
        }
      ]
    },
    {
      "cell_type": "markdown",
      "metadata": {
        "id": "LvstJkpsi5Av"
      },
      "source": [
        "### <font color=”50EBEC”> --> Dictionaries </font>"
      ]
    },
    {
      "cell_type": "code",
      "metadata": {
        "colab": {
          "base_uri": "https://localhost:8080/"
        },
        "id": "5_ylk9QIi6Nh",
        "outputId": "3aa20bfb-cbce-4e4d-f293-0dc8e85e0f8b"
      },
      "source": [
        "job = {'Data Scientist' : 'Gojek',                      #the job name is the \"KEY\", and the company is the \"VALUE\"\r\n",
        "       'Machine Learning Engineer' : 'Traveloka',       #so dictionary ALWAYS have a form of KEYS and VALUE.\r\n",
        "       'Software Engineer' : 'Google',\r\n",
        "       123 : \"is a number\",\r\n",
        "       'the number is' : 123}\r\n",
        "\r\n",
        "print(job)\r\n",
        "print(type(job))\r\n",
        "print()\r\n",
        "\r\n",
        "print(\"CHECK PAIR KEYS AND VALUES :\", '\\n', job.keys(), '\\n', job.values())\r\n",
        "\r\n",
        "print()\r\n",
        "\r\n",
        "print(job['Data Scientist'])\r\n",
        "print(\"123\", job[123])          \r\n",
        "print('the number is', job['the number is'])         #basicly, it will print all of the value that stored in a KEY\r\n",
        "                                                     #also, KEY AND THE VALUE itself can be any data type (str, float, int)"
      ],
      "execution_count": 28,
      "outputs": [
        {
          "output_type": "stream",
          "text": [
            "{'Data Scientist': 'Gojek', 'Machine Learning Engineer': 'Traveloka', 'Software Engineer': 'Google', 123: 'is a number', 'the number is': 123}\n",
            "<class 'dict'>\n",
            "\n",
            "CHECK PAIR KEYS AND VALUES : \n",
            " dict_keys(['Data Scientist', 'Machine Learning Engineer', 'Software Engineer', 123, 'the number is']) \n",
            " dict_values(['Gojek', 'Traveloka', 'Google', 'is a number', 123])\n",
            "\n",
            "Gojek\n",
            "123 is a number\n",
            "the number is 123\n"
          ],
          "name": "stdout"
        }
      ]
    },
    {
      "cell_type": "code",
      "metadata": {
        "colab": {
          "base_uri": "https://localhost:8080/"
        },
        "id": "Vt7D9CM9W4_u",
        "outputId": "826163ff-dd64-4440-fd16-5a0c07f8940e"
      },
      "source": [
        "# change a value from dictionary\r\n",
        "value = {'x':2, 'y':5}\r\n",
        "value['x'] = 3\r\n",
        "value['y'] = 7\r\n",
        "\r\n",
        "print(value)                #dictionary is MUTABLE."
      ],
      "execution_count": 29,
      "outputs": [
        {
          "output_type": "stream",
          "text": [
            "{'x': 3, 'y': 7}\n"
          ],
          "name": "stdout"
        }
      ]
    },
    {
      "cell_type": "code",
      "metadata": {
        "colab": {
          "base_uri": "https://localhost:8080/"
        },
        "id": "Vbp_eRIObLtb",
        "outputId": "5b1c59f4-5bb6-475f-8541-7708b6539ecf"
      },
      "source": [
        "# added a value to empty dictionary\r\n",
        "new_value = {}\r\n",
        "new_value['z'] = 2\r\n",
        "print(new_value)"
      ],
      "execution_count": 30,
      "outputs": [
        {
          "output_type": "stream",
          "text": [
            "{'z': 2}\n"
          ],
          "name": "stdout"
        }
      ]
    },
    {
      "cell_type": "code",
      "metadata": {
        "colab": {
          "base_uri": "https://localhost:8080/"
        },
        "id": "zQAZ5gd1bo_O",
        "outputId": "3a5802cb-c8f5-4fc1-c119-e3b2df9a0b8f"
      },
      "source": [
        "print(value, new_value)"
      ],
      "execution_count": 31,
      "outputs": [
        {
          "output_type": "stream",
          "text": [
            "{'x': 3, 'y': 7} {'z': 2}\n"
          ],
          "name": "stdout"
        }
      ]
    },
    {
      "cell_type": "markdown",
      "metadata": {
        "id": "ijr14lXSi5KI"
      },
      "source": [
        "### <font color=”50EBEC”> --> Object Oriented Programming (Class & Method) </font>"
      ]
    },
    {
      "cell_type": "code",
      "metadata": {
        "id": "bdGTcCZQi6r2"
      },
      "source": [
        "class Dog:\r\n",
        "    def __init__(this_can_be_anything, name, age, sound):           #this_can_be_anything --> usually type by 'self'. Means that refers to their self.\r\n",
        "        this_can_be_anything.name = name\r\n",
        "        this_can_be_anything.age = age\r\n",
        "        this_can_be_anything.sound = sound\r\n",
        "\r\n",
        "    # Instance method\r\n",
        "    def description(this_can_be_anything):\r\n",
        "        return f\"{this_can_be_anything.name} is {this_can_be_anything.age} years old\"\r\n",
        "\r\n",
        "    # Another instance method\r\n",
        "    def speak(this_can_be_anything):\r\n",
        "        return f\"{this_can_be_anything.name} says {this_can_be_anything.sound}\"\r\n",
        "        \r\n",
        "\r\n",
        "\r\n",
        "#assign value to the instance method / function on the class Dog and store to variable.\r\n",
        "Dog_A = Dog(\"Jack\", 1, \"woof woof\")\r\n",
        "Dog_B = Dog(\"Charles\", 2, \"rrrrgghhh\")\r\n",
        "Dog_C = Dog(\"Herald\", 3, \"meong\")\r\n",
        "\r\n",
        "#REFERENCES --> https://realpython.com/python3-object-oriented-programming/"
      ],
      "execution_count": 32,
      "outputs": []
    },
    {
      "cell_type": "code",
      "metadata": {
        "id": "4MOMKqCsZNu1",
        "colab": {
          "base_uri": "https://localhost:8080/"
        },
        "outputId": "4a7132be-50f6-4fd0-cd4e-d1acf93b9c73"
      },
      "source": [
        "print(Dog_A.description())\r\n",
        "print(Dog_A.speak(),'\\n')\r\n",
        "\r\n",
        "print(Dog_B.description())\r\n",
        "print(Dog_B.speak(),'\\n')\r\n",
        "\r\n",
        "print(Dog_C.description())\r\n",
        "print(Dog_C.speak())"
      ],
      "execution_count": 33,
      "outputs": [
        {
          "output_type": "stream",
          "text": [
            "Jack is 1 years old\n",
            "Jack says woof woof \n",
            "\n",
            "Charles is 2 years old\n",
            "Charles says rrrrgghhh \n",
            "\n",
            "Herald is 3 years old\n",
            "Herald says meong\n"
          ],
          "name": "stdout"
        }
      ]
    },
    {
      "cell_type": "code",
      "metadata": {
        "id": "lr2QDcuG7zbQ"
      },
      "source": [
        ""
      ],
      "execution_count": 33,
      "outputs": []
    }
  ]
}