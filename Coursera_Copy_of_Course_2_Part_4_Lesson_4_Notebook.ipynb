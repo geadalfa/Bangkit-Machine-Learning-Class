{
  "nbformat": 4,
  "nbformat_minor": 0,
  "metadata": {
    "accelerator": "GPU",
    "colab": {
      "name": "Coursera Copy of Course 2 - Part 4 - Lesson 4 - Notebook.ipynb",
      "provenance": [],
      "collapsed_sections": [],
      "toc_visible": true,
      "include_colab_link": true
    },
    "kernelspec": {
      "display_name": "Python 3",
      "name": "python3"
    }
  },
  "cells": [
    {
      "cell_type": "markdown",
      "metadata": {
        "id": "view-in-github",
        "colab_type": "text"
      },
      "source": [
        "<a href=\"https://colab.research.google.com/github/geadalfa/Bangkit-Machine-Learning-Class/blob/main/Coursera_Copy_of_Course_2_Part_4_Lesson_4_Notebook.ipynb\" target=\"_parent\"><img src=\"https://colab.research.google.com/assets/colab-badge.svg\" alt=\"Open In Colab\"/></a>"
      ]
    },
    {
      "cell_type": "markdown",
      "metadata": {
        "id": "rX8mhOLljYeM"
      },
      "source": [
        "##### Copyright 2019 The TensorFlow Authors."
      ]
    },
    {
      "cell_type": "code",
      "metadata": {
        "cellView": "form",
        "id": "BZSlp3DAjdYf"
      },
      "source": [
        "#@title Licensed under the Apache License, Version 2.0 (the \"License\");\n",
        "# you may not use this file except in compliance with the License.\n",
        "# You may obtain a copy of the License at\n",
        "#\n",
        "# https://www.apache.org/licenses/LICENSE-2.0\n",
        "#\n",
        "# Unless required by applicable law or agreed to in writing, software\n",
        "# distributed under the License is distributed on an \"AS IS\" BASIS,\n",
        "# WITHOUT WARRANTIES OR CONDITIONS OF ANY KIND, either express or implied.\n",
        "# See the License for the specific language governing permissions and\n",
        "# limitations under the License."
      ],
      "execution_count": 1,
      "outputs": []
    },
    {
      "cell_type": "code",
      "metadata": {
        "id": "RXZT2UsyIVe_",
        "colab": {
          "base_uri": "https://localhost:8080/"
        },
        "outputId": "93b041c7-db04-48e5-9696-f2301f13ff6a"
      },
      "source": [
        "!wget --no-check-certificate \\\n",
        "    https://storage.googleapis.com/laurencemoroney-blog.appspot.com/horse-or-human.zip \\\n",
        "    -O /tmp/horse-or-human.zip\n",
        "\n",
        "!wget --no-check-certificate \\\n",
        "    https://storage.googleapis.com/laurencemoroney-blog.appspot.com/validation-horse-or-human.zip \\\n",
        "    -O /tmp/validation-horse-or-human.zip\n",
        "  \n",
        "import os\n",
        "import zipfile\n",
        "\n",
        "local_zip = '/tmp/horse-or-human.zip'\n",
        "zip_ref = zipfile.ZipFile(local_zip, 'r')\n",
        "zip_ref.extractall('/tmp/horse-or-human')\n",
        "local_zip = '/tmp/validation-horse-or-human.zip'\n",
        "zip_ref = zipfile.ZipFile(local_zip, 'r')\n",
        "zip_ref.extractall('/tmp/validation-horse-or-human')\n",
        "zip_ref.close()\n",
        "# Directory with our training horse pictures\n",
        "train_horse_dir = os.path.join('/tmp/horse-or-human/horses')\n",
        "\n",
        "# Directory with our training human pictures\n",
        "train_human_dir = os.path.join('/tmp/horse-or-human/humans')\n",
        "\n",
        "# Directory with our training horse pictures\n",
        "validation_horse_dir = os.path.join('/tmp/validation-horse-or-human/horses')\n",
        "\n",
        "# Directory with our training human pictures\n",
        "validation_human_dir = os.path.join('/tmp/validation-horse-or-human/humans')"
      ],
      "execution_count": 2,
      "outputs": [
        {
          "output_type": "stream",
          "text": [
            "--2021-04-02 14:32:52--  https://storage.googleapis.com/laurencemoroney-blog.appspot.com/horse-or-human.zip\n",
            "Resolving storage.googleapis.com (storage.googleapis.com)... 74.125.203.128, 64.233.188.128, 64.233.189.128, ...\n",
            "Connecting to storage.googleapis.com (storage.googleapis.com)|74.125.203.128|:443... connected.\n",
            "HTTP request sent, awaiting response... 200 OK\n",
            "Length: 149574867 (143M) [application/zip]\n",
            "Saving to: ‘/tmp/horse-or-human.zip’\n",
            "\n",
            "/tmp/horse-or-human 100%[===================>] 142.65M  59.9MB/s    in 2.4s    \n",
            "\n",
            "2021-04-02 14:32:56 (59.9 MB/s) - ‘/tmp/horse-or-human.zip’ saved [149574867/149574867]\n",
            "\n",
            "--2021-04-02 14:32:56--  https://storage.googleapis.com/laurencemoroney-blog.appspot.com/validation-horse-or-human.zip\n",
            "Resolving storage.googleapis.com (storage.googleapis.com)... 64.233.189.128, 74.125.203.128, 74.125.204.128, ...\n",
            "Connecting to storage.googleapis.com (storage.googleapis.com)|64.233.189.128|:443... connected.\n",
            "HTTP request sent, awaiting response... 200 OK\n",
            "Length: 11480187 (11M) [application/zip]\n",
            "Saving to: ‘/tmp/validation-horse-or-human.zip’\n",
            "\n",
            "/tmp/validation-hor 100%[===================>]  10.95M  --.-KB/s    in 0.1s    \n",
            "\n",
            "2021-04-02 14:32:58 (86.6 MB/s) - ‘/tmp/validation-horse-or-human.zip’ saved [11480187/11480187]\n",
            "\n"
          ],
          "name": "stdout"
        }
      ]
    },
    {
      "cell_type": "markdown",
      "metadata": {
        "id": "5oqBkNBJmtUv"
      },
      "source": [
        "## Building a Small Model from Scratch\n",
        "\n",
        "But before we continue, let's start defining the model:\n",
        "\n",
        "Step 1 will be to import tensorflow."
      ]
    },
    {
      "cell_type": "code",
      "metadata": {
        "id": "qvfZg3LQbD-5"
      },
      "source": [
        "import tensorflow as tf"
      ],
      "execution_count": 3,
      "outputs": []
    },
    {
      "cell_type": "markdown",
      "metadata": {
        "id": "BnhYCP4tdqjC"
      },
      "source": [
        "We then add convolutional layers as in the previous example, and flatten the final result to feed into the densely connected layers."
      ]
    },
    {
      "cell_type": "markdown",
      "metadata": {
        "id": "gokG5HKpdtzm"
      },
      "source": [
        "Finally we add the densely connected layers. \n",
        "\n",
        "Note that because we are facing a two-class classification problem, i.e. a *binary classification problem*, we will end our network with a [*sigmoid* activation](https://wikipedia.org/wiki/Sigmoid_function), so that the output of our network will be a single scalar between 0 and 1, encoding the probability that the current image is class 1 (as opposed to class 0)."
      ]
    },
    {
      "cell_type": "code",
      "metadata": {
        "id": "PixZ2s5QbYQ3"
      },
      "source": [
        "model = tf.keras.models.Sequential([\n",
        "    # Note the input shape is the desired size of the image 300x300 with 3 bytes color\n",
        "    # This is the first convolution\n",
        "    tf.keras.layers.Conv2D(16, (3,3), activation='relu', input_shape=(300, 300, 3)),\n",
        "    tf.keras.layers.MaxPooling2D(2, 2),\n",
        "    # The second convolution\n",
        "    tf.keras.layers.Conv2D(32, (3,3), activation='relu'),\n",
        "    tf.keras.layers.MaxPooling2D(2,2),\n",
        "    # The third convolution\n",
        "    tf.keras.layers.Conv2D(64, (3,3), activation='relu'),\n",
        "    tf.keras.layers.MaxPooling2D(2,2),\n",
        "    # The fourth convolution\n",
        "    tf.keras.layers.Conv2D(64, (3,3), activation='relu'),\n",
        "    tf.keras.layers.MaxPooling2D(2,2),\n",
        "    # The fifth convolution\n",
        "    tf.keras.layers.Conv2D(64, (3,3), activation='relu'),\n",
        "    tf.keras.layers.MaxPooling2D(2,2),\n",
        "    # Flatten the results to feed into a DNN\n",
        "    tf.keras.layers.Flatten(),\n",
        "    # 512 neuron hidden layer\n",
        "    tf.keras.layers.Dense(512, activation='relu'),\n",
        "    # Only 1 output neuron. It will contain a value from 0-1 where 0 for 1 class ('horses') and 1 for the other ('humans')\n",
        "    tf.keras.layers.Dense(1, activation='sigmoid')\n",
        "])"
      ],
      "execution_count": 4,
      "outputs": []
    },
    {
      "cell_type": "code",
      "metadata": {
        "id": "8DHWhFP_uhq3"
      },
      "source": [
        "from tensorflow.keras.optimizers import RMSprop\n",
        "\n",
        "model.compile(loss='binary_crossentropy',\n",
        "              optimizer=RMSprop(lr=1e-4),\n",
        "              metrics=['accuracy'])"
      ],
      "execution_count": 5,
      "outputs": []
    },
    {
      "cell_type": "code",
      "metadata": {
        "id": "ClebU9NJg99G",
        "colab": {
          "base_uri": "https://localhost:8080/"
        },
        "outputId": "84322296-36af-4c35-c823-6d08cfe95a9b"
      },
      "source": [
        "from tensorflow.keras.preprocessing.image import ImageDataGenerator\n",
        "\n",
        "# All images will be rescaled by 1./255\n",
        "train_datagen = ImageDataGenerator(\n",
        "      rescale=1./255,\n",
        "      rotation_range=40,\n",
        "      width_shift_range=0.2,\n",
        "      height_shift_range=0.2,\n",
        "      shear_range=0.2,\n",
        "      zoom_range=0.2,\n",
        "      horizontal_flip=True,\n",
        "      fill_mode='nearest')\n",
        "\n",
        "validation_datagen = ImageDataGenerator(rescale=1/255)\n",
        "\n",
        "# Flow training images in batches of 128 using train_datagen generator\n",
        "train_generator = train_datagen.flow_from_directory(\n",
        "        '/tmp/horse-or-human/',  # This is the source directory for training images\n",
        "        target_size=(300, 300),  # All images will be resized to 150x150\n",
        "        batch_size=128,\n",
        "        # Since we use binary_crossentropy loss, we need binary labels\n",
        "        class_mode='binary')\n",
        "\n",
        "# Flow training images in batches of 128 using train_datagen generator\n",
        "validation_generator = validation_datagen.flow_from_directory(\n",
        "        '/tmp/validation-horse-or-human/',  # This is the source directory for training images\n",
        "        target_size=(300, 300),  # All images will be resized to 150x150\n",
        "        batch_size=32,\n",
        "        # Since we use binary_crossentropy loss, we need binary labels\n",
        "        class_mode='binary')"
      ],
      "execution_count": 6,
      "outputs": [
        {
          "output_type": "stream",
          "text": [
            "Found 1027 images belonging to 2 classes.\n",
            "Found 256 images belonging to 2 classes.\n"
          ],
          "name": "stdout"
        }
      ]
    },
    {
      "cell_type": "code",
      "metadata": {
        "id": "Fb1_lgobv81m",
        "colab": {
          "base_uri": "https://localhost:8080/"
        },
        "outputId": "8554a344-3a5d-4f3e-9d28-ae7c29bd7023"
      },
      "source": [
        "history = model.fit(\n",
        "      train_generator,\n",
        "      steps_per_epoch=8,  \n",
        "      epochs=100,\n",
        "      verbose=1,\n",
        "      validation_data = validation_generator,\n",
        "      validation_steps=8)"
      ],
      "execution_count": 7,
      "outputs": [
        {
          "output_type": "stream",
          "text": [
            "Epoch 1/100\n",
            "8/8 [==============================] - 55s 3s/step - loss: 0.6958 - accuracy: 0.4979 - val_loss: 0.6854 - val_accuracy: 0.5586\n",
            "Epoch 2/100\n",
            "8/8 [==============================] - 24s 3s/step - loss: 0.6779 - accuracy: 0.5943 - val_loss: 0.6800 - val_accuracy: 0.5000\n",
            "Epoch 3/100\n",
            "8/8 [==============================] - 24s 3s/step - loss: 0.6736 - accuracy: 0.5745 - val_loss: 0.6540 - val_accuracy: 0.7344\n",
            "Epoch 4/100\n",
            "8/8 [==============================] - 25s 3s/step - loss: 0.6457 - accuracy: 0.6819 - val_loss: 0.6929 - val_accuracy: 0.5039\n",
            "Epoch 5/100\n",
            "8/8 [==============================] - 24s 3s/step - loss: 0.6154 - accuracy: 0.6869 - val_loss: 0.7390 - val_accuracy: 0.5000\n",
            "Epoch 6/100\n",
            "8/8 [==============================] - 24s 3s/step - loss: 0.5647 - accuracy: 0.7249 - val_loss: 0.6056 - val_accuracy: 0.6133\n",
            "Epoch 7/100\n",
            "8/8 [==============================] - 24s 3s/step - loss: 0.5473 - accuracy: 0.7619 - val_loss: 0.5996 - val_accuracy: 0.4961\n",
            "Epoch 8/100\n",
            "8/8 [==============================] - 24s 3s/step - loss: 0.6252 - accuracy: 0.6790 - val_loss: 0.7587 - val_accuracy: 0.5234\n",
            "Epoch 9/100\n",
            "8/8 [==============================] - 25s 3s/step - loss: 0.5293 - accuracy: 0.7285 - val_loss: 0.6529 - val_accuracy: 0.5977\n",
            "Epoch 10/100\n",
            "8/8 [==============================] - 25s 3s/step - loss: 0.5091 - accuracy: 0.7573 - val_loss: 1.0294 - val_accuracy: 0.5078\n",
            "Epoch 11/100\n",
            "8/8 [==============================] - 25s 3s/step - loss: 0.4960 - accuracy: 0.7714 - val_loss: 1.2069 - val_accuracy: 0.5078\n",
            "Epoch 12/100\n",
            "8/8 [==============================] - 24s 3s/step - loss: 0.5233 - accuracy: 0.7487 - val_loss: 1.0632 - val_accuracy: 0.5352\n",
            "Epoch 13/100\n",
            "8/8 [==============================] - 24s 3s/step - loss: 0.5149 - accuracy: 0.7673 - val_loss: 0.9761 - val_accuracy: 0.5469\n",
            "Epoch 14/100\n",
            "8/8 [==============================] - 24s 3s/step - loss: 0.4355 - accuracy: 0.7843 - val_loss: 1.0752 - val_accuracy: 0.5508\n",
            "Epoch 15/100\n",
            "8/8 [==============================] - 24s 3s/step - loss: 0.4654 - accuracy: 0.7721 - val_loss: 0.8928 - val_accuracy: 0.6055\n",
            "Epoch 16/100\n",
            "8/8 [==============================] - 24s 3s/step - loss: 0.4365 - accuracy: 0.8015 - val_loss: 1.2216 - val_accuracy: 0.5586\n",
            "Epoch 17/100\n",
            "8/8 [==============================] - 24s 3s/step - loss: 0.4769 - accuracy: 0.7849 - val_loss: 1.1902 - val_accuracy: 0.5664\n",
            "Epoch 18/100\n",
            "8/8 [==============================] - 24s 3s/step - loss: 0.3978 - accuracy: 0.8404 - val_loss: 1.9707 - val_accuracy: 0.5039\n",
            "Epoch 19/100\n",
            "8/8 [==============================] - 24s 3s/step - loss: 0.4789 - accuracy: 0.7668 - val_loss: 1.3324 - val_accuracy: 0.5664\n",
            "Epoch 20/100\n",
            "8/8 [==============================] - 24s 3s/step - loss: 0.3990 - accuracy: 0.8151 - val_loss: 1.4741 - val_accuracy: 0.5430\n",
            "Epoch 21/100\n",
            "8/8 [==============================] - 26s 3s/step - loss: 0.3689 - accuracy: 0.8610 - val_loss: 1.4876 - val_accuracy: 0.5625\n",
            "Epoch 22/100\n",
            "8/8 [==============================] - 24s 3s/step - loss: 0.3750 - accuracy: 0.8239 - val_loss: 1.4825 - val_accuracy: 0.5625\n",
            "Epoch 23/100\n",
            "8/8 [==============================] - 24s 3s/step - loss: 0.3693 - accuracy: 0.8387 - val_loss: 1.9682 - val_accuracy: 0.5391\n",
            "Epoch 24/100\n",
            "8/8 [==============================] - 24s 3s/step - loss: 0.4173 - accuracy: 0.8123 - val_loss: 1.8130 - val_accuracy: 0.5430\n",
            "Epoch 25/100\n",
            "8/8 [==============================] - 23s 3s/step - loss: 0.3356 - accuracy: 0.8659 - val_loss: 2.5076 - val_accuracy: 0.5078\n",
            "Epoch 26/100\n",
            "8/8 [==============================] - 24s 3s/step - loss: 0.3574 - accuracy: 0.8337 - val_loss: 3.2420 - val_accuracy: 0.5000\n",
            "Epoch 27/100\n",
            "8/8 [==============================] - 24s 3s/step - loss: 0.4493 - accuracy: 0.7760 - val_loss: 1.7962 - val_accuracy: 0.5586\n",
            "Epoch 28/100\n",
            "8/8 [==============================] - 24s 3s/step - loss: 0.3859 - accuracy: 0.8465 - val_loss: 1.7611 - val_accuracy: 0.5586\n",
            "Epoch 29/100\n",
            "8/8 [==============================] - 24s 3s/step - loss: 0.2943 - accuracy: 0.8775 - val_loss: 2.0250 - val_accuracy: 0.5547\n",
            "Epoch 30/100\n",
            "8/8 [==============================] - 24s 3s/step - loss: 0.3153 - accuracy: 0.8723 - val_loss: 1.5399 - val_accuracy: 0.5742\n",
            "Epoch 31/100\n",
            "8/8 [==============================] - 23s 3s/step - loss: 0.2880 - accuracy: 0.8776 - val_loss: 2.0449 - val_accuracy: 0.5547\n",
            "Epoch 32/100\n",
            "8/8 [==============================] - 23s 3s/step - loss: 0.3083 - accuracy: 0.8464 - val_loss: 2.8784 - val_accuracy: 0.5078\n",
            "Epoch 33/100\n",
            "8/8 [==============================] - 23s 3s/step - loss: 0.3715 - accuracy: 0.8093 - val_loss: 0.9424 - val_accuracy: 0.6953\n",
            "Epoch 34/100\n",
            "8/8 [==============================] - 23s 3s/step - loss: 0.3082 - accuracy: 0.8595 - val_loss: 2.5328 - val_accuracy: 0.5469\n",
            "Epoch 35/100\n",
            "8/8 [==============================] - 24s 3s/step - loss: 0.2908 - accuracy: 0.8650 - val_loss: 2.1465 - val_accuracy: 0.5586\n",
            "Epoch 36/100\n",
            "8/8 [==============================] - 24s 3s/step - loss: 0.3264 - accuracy: 0.8451 - val_loss: 1.9626 - val_accuracy: 0.5586\n",
            "Epoch 37/100\n",
            "8/8 [==============================] - 24s 3s/step - loss: 0.2358 - accuracy: 0.9051 - val_loss: 2.4599 - val_accuracy: 0.5430\n",
            "Epoch 38/100\n",
            "8/8 [==============================] - 26s 3s/step - loss: 0.3293 - accuracy: 0.8451 - val_loss: 1.6502 - val_accuracy: 0.5898\n",
            "Epoch 39/100\n",
            "8/8 [==============================] - 23s 3s/step - loss: 0.2857 - accuracy: 0.8848 - val_loss: 2.0314 - val_accuracy: 0.5625\n",
            "Epoch 40/100\n",
            "8/8 [==============================] - 23s 3s/step - loss: 0.3194 - accuracy: 0.8658 - val_loss: 2.1631 - val_accuracy: 0.5547\n",
            "Epoch 41/100\n",
            "8/8 [==============================] - 23s 3s/step - loss: 0.2323 - accuracy: 0.9094 - val_loss: 1.9167 - val_accuracy: 0.5742\n",
            "Epoch 42/100\n",
            "8/8 [==============================] - 24s 3s/step - loss: 0.2279 - accuracy: 0.9109 - val_loss: 1.5677 - val_accuracy: 0.6094\n",
            "Epoch 43/100\n",
            "8/8 [==============================] - 26s 3s/step - loss: 0.2743 - accuracy: 0.8885 - val_loss: 1.9887 - val_accuracy: 0.5703\n",
            "Epoch 44/100\n",
            "8/8 [==============================] - 23s 3s/step - loss: 0.2322 - accuracy: 0.9005 - val_loss: 2.2953 - val_accuracy: 0.5625\n",
            "Epoch 45/100\n",
            "8/8 [==============================] - 23s 3s/step - loss: 0.2678 - accuracy: 0.8863 - val_loss: 2.6256 - val_accuracy: 0.5430\n",
            "Epoch 46/100\n",
            "8/8 [==============================] - 23s 3s/step - loss: 0.2337 - accuracy: 0.8971 - val_loss: 2.3744 - val_accuracy: 0.5625\n",
            "Epoch 47/100\n",
            "8/8 [==============================] - 24s 3s/step - loss: 0.1883 - accuracy: 0.9251 - val_loss: 1.7885 - val_accuracy: 0.6133\n",
            "Epoch 48/100\n",
            "8/8 [==============================] - 24s 3s/step - loss: 0.2810 - accuracy: 0.8789 - val_loss: 2.2341 - val_accuracy: 0.5586\n",
            "Epoch 49/100\n",
            "8/8 [==============================] - 24s 3s/step - loss: 0.2037 - accuracy: 0.9145 - val_loss: 1.7920 - val_accuracy: 0.6016\n",
            "Epoch 50/100\n",
            "8/8 [==============================] - 24s 3s/step - loss: 0.2517 - accuracy: 0.8937 - val_loss: 2.2005 - val_accuracy: 0.5859\n",
            "Epoch 51/100\n",
            "8/8 [==============================] - 24s 3s/step - loss: 0.2593 - accuracy: 0.8928 - val_loss: 2.1010 - val_accuracy: 0.5625\n",
            "Epoch 52/100\n",
            "8/8 [==============================] - 26s 3s/step - loss: 0.2241 - accuracy: 0.9063 - val_loss: 2.3656 - val_accuracy: 0.5742\n",
            "Epoch 53/100\n",
            "8/8 [==============================] - 23s 3s/step - loss: 0.3580 - accuracy: 0.8268 - val_loss: 2.3415 - val_accuracy: 0.5742\n",
            "Epoch 54/100\n",
            "8/8 [==============================] - 26s 3s/step - loss: 0.1666 - accuracy: 0.9428 - val_loss: 2.2409 - val_accuracy: 0.5820\n",
            "Epoch 55/100\n",
            "8/8 [==============================] - 24s 3s/step - loss: 0.3004 - accuracy: 0.8514 - val_loss: 2.5803 - val_accuracy: 0.5742\n",
            "Epoch 56/100\n",
            "8/8 [==============================] - 23s 3s/step - loss: 0.2094 - accuracy: 0.9247 - val_loss: 2.6342 - val_accuracy: 0.5430\n",
            "Epoch 57/100\n",
            "8/8 [==============================] - 23s 3s/step - loss: 0.1936 - accuracy: 0.9296 - val_loss: 2.8063 - val_accuracy: 0.5469\n",
            "Epoch 58/100\n",
            "8/8 [==============================] - 24s 3s/step - loss: 0.2083 - accuracy: 0.9152 - val_loss: 2.1275 - val_accuracy: 0.5703\n",
            "Epoch 59/100\n",
            "8/8 [==============================] - 23s 3s/step - loss: 0.2063 - accuracy: 0.9186 - val_loss: 2.1408 - val_accuracy: 0.5781\n",
            "Epoch 60/100\n",
            "8/8 [==============================] - 23s 3s/step - loss: 0.1840 - accuracy: 0.9373 - val_loss: 2.1745 - val_accuracy: 0.5742\n",
            "Epoch 61/100\n",
            "8/8 [==============================] - 23s 3s/step - loss: 0.1778 - accuracy: 0.9300 - val_loss: 2.5152 - val_accuracy: 0.5586\n",
            "Epoch 62/100\n",
            "8/8 [==============================] - 23s 3s/step - loss: 0.2121 - accuracy: 0.9118 - val_loss: 3.0704 - val_accuracy: 0.5352\n",
            "Epoch 63/100\n",
            "8/8 [==============================] - 23s 3s/step - loss: 0.2152 - accuracy: 0.9188 - val_loss: 2.4650 - val_accuracy: 0.5664\n",
            "Epoch 64/100\n",
            "8/8 [==============================] - 23s 3s/step - loss: 0.1688 - accuracy: 0.9303 - val_loss: 1.2299 - val_accuracy: 0.6914\n",
            "Epoch 65/100\n",
            "8/8 [==============================] - 23s 3s/step - loss: 0.3295 - accuracy: 0.8612 - val_loss: 2.8574 - val_accuracy: 0.5547\n",
            "Epoch 66/100\n",
            "8/8 [==============================] - 24s 3s/step - loss: 0.1870 - accuracy: 0.9400 - val_loss: 2.7151 - val_accuracy: 0.5625\n",
            "Epoch 67/100\n",
            "8/8 [==============================] - 26s 3s/step - loss: 0.1708 - accuracy: 0.9364 - val_loss: 2.6995 - val_accuracy: 0.5586\n",
            "Epoch 68/100\n",
            "8/8 [==============================] - 23s 3s/step - loss: 0.4240 - accuracy: 0.8771 - val_loss: 2.6148 - val_accuracy: 0.5664\n",
            "Epoch 69/100\n",
            "8/8 [==============================] - 25s 3s/step - loss: 0.1570 - accuracy: 0.9484 - val_loss: 3.0678 - val_accuracy: 0.5547\n",
            "Epoch 70/100\n",
            "8/8 [==============================] - 23s 3s/step - loss: 0.2343 - accuracy: 0.9170 - val_loss: 2.4826 - val_accuracy: 0.5781\n",
            "Epoch 71/100\n",
            "8/8 [==============================] - 26s 3s/step - loss: 0.1952 - accuracy: 0.9225 - val_loss: 2.1917 - val_accuracy: 0.6016\n",
            "Epoch 72/100\n",
            "8/8 [==============================] - 23s 3s/step - loss: 0.1922 - accuracy: 0.9340 - val_loss: 2.6636 - val_accuracy: 0.5820\n",
            "Epoch 73/100\n",
            "8/8 [==============================] - 23s 3s/step - loss: 0.2127 - accuracy: 0.9054 - val_loss: 2.8087 - val_accuracy: 0.5625\n",
            "Epoch 74/100\n",
            "8/8 [==============================] - 23s 3s/step - loss: 0.2451 - accuracy: 0.9023 - val_loss: 2.8290 - val_accuracy: 0.5625\n",
            "Epoch 75/100\n",
            "8/8 [==============================] - 24s 3s/step - loss: 0.1466 - accuracy: 0.9479 - val_loss: 3.4472 - val_accuracy: 0.5234\n",
            "Epoch 76/100\n",
            "8/8 [==============================] - 26s 3s/step - loss: 0.1897 - accuracy: 0.9202 - val_loss: 3.1860 - val_accuracy: 0.5430\n",
            "Epoch 77/100\n",
            "8/8 [==============================] - 24s 3s/step - loss: 0.1404 - accuracy: 0.9369 - val_loss: 3.0284 - val_accuracy: 0.5664\n",
            "Epoch 78/100\n",
            "8/8 [==============================] - 24s 3s/step - loss: 0.2081 - accuracy: 0.9075 - val_loss: 2.7566 - val_accuracy: 0.5664\n",
            "Epoch 79/100\n",
            "8/8 [==============================] - 23s 3s/step - loss: 0.1397 - accuracy: 0.9446 - val_loss: 2.1350 - val_accuracy: 0.6094\n",
            "Epoch 80/100\n",
            "8/8 [==============================] - 26s 3s/step - loss: 0.1782 - accuracy: 0.9298 - val_loss: 2.9096 - val_accuracy: 0.5664\n",
            "Epoch 81/100\n",
            "8/8 [==============================] - 23s 3s/step - loss: 0.1122 - accuracy: 0.9631 - val_loss: 3.5122 - val_accuracy: 0.5352\n",
            "Epoch 82/100\n",
            "8/8 [==============================] - 23s 3s/step - loss: 0.1427 - accuracy: 0.9421 - val_loss: 2.1277 - val_accuracy: 0.6523\n",
            "Epoch 83/100\n",
            "8/8 [==============================] - 23s 3s/step - loss: 0.2017 - accuracy: 0.9084 - val_loss: 3.8011 - val_accuracy: 0.5312\n",
            "Epoch 84/100\n",
            "8/8 [==============================] - 24s 3s/step - loss: 0.1574 - accuracy: 0.9430 - val_loss: 2.7680 - val_accuracy: 0.5898\n",
            "Epoch 85/100\n",
            "8/8 [==============================] - 24s 3s/step - loss: 0.1920 - accuracy: 0.9223 - val_loss: 3.3570 - val_accuracy: 0.5547\n",
            "Epoch 86/100\n",
            "8/8 [==============================] - 24s 3s/step - loss: 0.1355 - accuracy: 0.9545 - val_loss: 3.1412 - val_accuracy: 0.5664\n",
            "Epoch 87/100\n",
            "8/8 [==============================] - 23s 3s/step - loss: 0.1722 - accuracy: 0.9374 - val_loss: 2.8538 - val_accuracy: 0.5742\n",
            "Epoch 88/100\n",
            "8/8 [==============================] - 23s 3s/step - loss: 0.1298 - accuracy: 0.9501 - val_loss: 2.3211 - val_accuracy: 0.6445\n",
            "Epoch 89/100\n",
            "8/8 [==============================] - 24s 3s/step - loss: 0.2291 - accuracy: 0.9225 - val_loss: 3.9528 - val_accuracy: 0.5234\n",
            "Epoch 90/100\n",
            "8/8 [==============================] - 26s 3s/step - loss: 0.1604 - accuracy: 0.9304 - val_loss: 2.3259 - val_accuracy: 0.6289\n",
            "Epoch 91/100\n",
            "8/8 [==============================] - 24s 3s/step - loss: 0.1205 - accuracy: 0.9556 - val_loss: 3.2971 - val_accuracy: 0.5664\n",
            "Epoch 92/100\n",
            "8/8 [==============================] - 24s 3s/step - loss: 0.1421 - accuracy: 0.9458 - val_loss: 3.3235 - val_accuracy: 0.5664\n",
            "Epoch 93/100\n",
            "8/8 [==============================] - 24s 3s/step - loss: 0.1298 - accuracy: 0.9501 - val_loss: 2.7335 - val_accuracy: 0.5938\n",
            "Epoch 94/100\n",
            "8/8 [==============================] - 23s 3s/step - loss: 0.1310 - accuracy: 0.9532 - val_loss: 4.7822 - val_accuracy: 0.5117\n",
            "Epoch 95/100\n",
            "8/8 [==============================] - 26s 3s/step - loss: 0.1586 - accuracy: 0.9360 - val_loss: 3.2140 - val_accuracy: 0.5703\n",
            "Epoch 96/100\n",
            "8/8 [==============================] - 23s 3s/step - loss: 0.3041 - accuracy: 0.8813 - val_loss: 3.8016 - val_accuracy: 0.5508\n",
            "Epoch 97/100\n",
            "8/8 [==============================] - 24s 3s/step - loss: 0.1649 - accuracy: 0.9292 - val_loss: 2.9318 - val_accuracy: 0.5664\n",
            "Epoch 98/100\n",
            "8/8 [==============================] - 24s 3s/step - loss: 0.1152 - accuracy: 0.9636 - val_loss: 2.9486 - val_accuracy: 0.5781\n",
            "Epoch 99/100\n",
            "8/8 [==============================] - 23s 3s/step - loss: 0.5420 - accuracy: 0.8279 - val_loss: 3.2402 - val_accuracy: 0.5664\n",
            "Epoch 100/100\n",
            "8/8 [==============================] - 23s 3s/step - loss: 0.1058 - accuracy: 0.9630 - val_loss: 3.1379 - val_accuracy: 0.5781\n"
          ],
          "name": "stdout"
        }
      ]
    },
    {
      "cell_type": "code",
      "metadata": {
        "id": "7zNPRWOVJdOH",
        "colab": {
          "base_uri": "https://localhost:8080/",
          "height": 545
        },
        "outputId": "2946f926-d78e-4a6c-d5cc-fb9fe5f853fd"
      },
      "source": [
        "import matplotlib.pyplot as plt\n",
        "acc = history.history['accuracy']\n",
        "val_acc = history.history['val_accuracy']\n",
        "loss = history.history['loss']\n",
        "val_loss = history.history['val_loss']\n",
        "\n",
        "epochs = range(len(acc))\n",
        "\n",
        "plt.plot(epochs, acc, 'r', label='Training accuracy')\n",
        "plt.plot(epochs, val_acc, 'b', label='Validation accuracy')\n",
        "plt.title('Training and validation accuracy')\n",
        "\n",
        "plt.figure()\n",
        "\n",
        "plt.plot(epochs, loss, 'r', label='Training Loss')\n",
        "plt.plot(epochs, val_loss, 'b', label='Validation Loss')\n",
        "plt.title('Training and validation loss')\n",
        "plt.legend()\n",
        "\n",
        "plt.show()"
      ],
      "execution_count": 8,
      "outputs": [
        {
          "output_type": "display_data",
          "data": {
            "image/png": "[encoded data removed]",
            "text/plain": [
              "<Figure size 432x288 with 1 Axes>"
            ]
          },
          "metadata": {
            "tags": [],
            "needs_background": "light"
          }
        },
        {
          "output_type": "display_data",
          "data": {
            "image/png": "[encoded data removed]",
            "text/plain": [
              "<Figure size 432x288 with 1 Axes>"
            ]
          },
          "metadata": {
            "tags": [],
            "needs_background": "light"
          }
        }
      ]
    }
  ]
}