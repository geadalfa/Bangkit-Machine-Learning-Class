{
  "nbformat": 4,
  "nbformat_minor": 0,
  "metadata": {
    "colab": {
      "name": "Bangkit first meet.ipynb",
      "provenance": [],
      "authorship_tag": "ABX9TyNdl7WRwo0e7IVJwTBjMMe3",
      "include_colab_link": true
    },
    "kernelspec": {
      "name": "python3",
      "display_name": "Python 3"
    }
  },
  "cells": [
    {
      "cell_type": "markdown",
      "metadata": {
        "id": "view-in-github",
        "colab_type": "text"
      },
      "source": [
        "<a href=\"https://colab.research.google.com/github/geadalfa/Bangkit-Machine-Learning-Class/blob/main/Bangkit_first_meet.ipynb\" target=\"_parent\"><img src=\"https://colab.research.google.com/assets/colab-badge.svg\" alt=\"Open In Colab\"/></a>"
      ]
    },
    {
      "cell_type": "markdown",
      "metadata": {
        "id": "Tm0KpTD-y8Xr"
      },
      "source": [
        "#[ILT-ML-01-P] Bangkit Machine Learning Class"
      ]
    },
    {
      "cell_type": "code",
      "metadata": {
        "id": "Db4wbc2Uy56a"
      },
      "source": [
        ""
      ],
      "execution_count": null,
      "outputs": []
    }
  ]
}