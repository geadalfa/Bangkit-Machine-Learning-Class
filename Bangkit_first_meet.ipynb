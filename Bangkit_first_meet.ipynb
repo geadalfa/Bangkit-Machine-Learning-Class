{
  "nbformat": 4,
  "nbformat_minor": 0,
  "metadata": {
    "colab": {
      "name": "Bangkit first meet.ipynb",
      "provenance": [],
      "authorship_tag": "ABX9TyNlvsb+dEbUpgGWJw5de0O6",
      "include_colab_link": true
    },
    "kernelspec": {
      "name": "python3",
      "display_name": "Python 3"
    }
  },
  "cells": [
    {
      "cell_type": "markdown",
      "metadata": {
        "id": "view-in-github",
        "colab_type": "text"
      },
      "source": [
        "<a href=\"https://colab.research.google.com/github/geadalfa/Bangkit-Machine-Learning-Class/blob/main/Bangkit_first_meet.ipynb\" target=\"_parent\"><img src=\"https://colab.research.google.com/assets/colab-badge.svg\" alt=\"Open In Colab\"/></a>"
      ]
    },
    {
      "cell_type": "markdown",
      "metadata": {
        "id": "Tm0KpTD-y8Xr"
      },
      "source": [
        "#[ILT-ML-01-P] Bangkit Machine Learning Class"
      ]
    },
    {
      "cell_type": "code",
      "metadata": {
        "id": "Db4wbc2Uy56a"
      },
      "source": [
        "def biodata(id, name, kelas) :\r\n",
        "    print('My Students Id : ', id)\r\n",
        "    print('My Name : ', name)\r\n",
        "    print('My Class: ', kelas)\r\n",
        "\r\n",
        "\r\n"
      ],
      "execution_count": 13,
      "outputs": []
    },
    {
      "cell_type": "code",
      "metadata": {
        "colab": {
          "base_uri": "https://localhost:8080/"
        },
        "id": "9YTErscn7fuu",
        "outputId": "d7c59fdf-8c4e-430e-c2ae-2a564701afa9"
      },
      "source": [
        "biodata('52417', 'alfa', '4ia02')"
      ],
      "execution_count": 12,
      "outputs": [
        {
          "output_type": "stream",
          "text": [
            "My Students Id :  52417\n",
            "My Name :  alfa\n",
            "My Class:  4ia02\n"
          ],
          "name": "stdout"
        }
      ]
    },
    {
      "cell_type": "code",
      "metadata": {
        "id": "JVQxxsTr7qs2"
      },
      "source": [
        ""
      ],
      "execution_count": null,
      "outputs": []
    }
  ]
}